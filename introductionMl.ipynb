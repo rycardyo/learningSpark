{
 "cells": [
  {
   "cell_type": "code",
   "execution_count": 1,
   "metadata": {},
   "outputs": [],
   "source": [
    "from pyspark.sql import SparkSession \n"
   ]
  },
  {
   "cell_type": "code",
   "execution_count": 2,
   "metadata": {},
   "outputs": [],
   "source": [
    "spark = SparkSession.builder.getOrCreate()"
   ]
  },
  {
   "cell_type": "code",
   "execution_count": 14,
   "metadata": {},
   "outputs": [],
   "source": [
    "bitcoinData = spark.read.option('inferSchema','true'\n",
    "                  ).option('header','true'\n",
    "                  ).csv('./data/archive/btcusd_1-min_data.csv')"
   ]
  },
  {
   "cell_type": "code",
   "execution_count": 19,
   "metadata": {},
   "outputs": [
    {
     "name": "stdout",
     "output_type": "stream",
     "text": [
      "[StructField('Timestamp', DoubleType(), True), StructField('Open', DoubleType(), True), StructField('High', DoubleType(), True), StructField('Low', DoubleType(), True), StructField('Close', DoubleType(), True), StructField('Volume', DoubleType(), True)]\n"
     ]
    }
   ],
   "source": [
    "print(bitcoinData.schema.fields)"
   ]
  },
  {
   "cell_type": "code",
   "execution_count": 22,
   "metadata": {},
   "outputs": [],
   "source": [
    "bitcoinData.createOrReplaceTempView('bitcoin')\n",
    "\n",
    "bitcoinData2 = spark.sql('''\n",
    "          select\n",
    "             max(Open) as Open,\n",
    "             max(High) as High,\n",
    "             min(Low)  as Low,\n",
    "             max(Close) as Close,\n",
    "             max(Volume) as Volume,\n",
    "            max(to_date(FROM_UNIXTIME(Timestamp))) as data\n",
    "            from bitcoin\n",
    "            group by \n",
    "              to_date(FROM_UNIXTIME(Timestamp))\n",
    "            \n",
    "          \n",
    "          ''')"
   ]
  },
  {
   "cell_type": "code",
   "execution_count": 23,
   "metadata": {},
   "outputs": [
    {
     "name": "stdout",
     "output_type": "stream",
     "text": [
      "+------+------+------+------+-------------+----------+\n",
      "|  Open|  High|   Low| Close|       Volume|      data|\n",
      "+------+------+------+------+-------------+----------+\n",
      "|  4.99|  4.99|  4.95|  4.99|         59.0|2012-04-17|\n",
      "|  12.6|  12.6| 12.06|  12.6|        221.3|2012-10-06|\n",
      "|  17.6|  17.6| 16.45|  17.6| 277.24326457|2013-01-22|\n",
      "|  86.0|  86.0| 74.06|  86.0| 324.97025499|2013-03-26|\n",
      "|118.56|118.56|116.55|118.56| 241.04896851|2013-05-21|\n",
      "| 124.0|124.13| 115.0| 124.0|1080.14110169|2013-09-09|\n",
      "|   8.8|   8.8|   7.7|   8.8|      369.759|2012-07-17|\n",
      "|127.69|127.95|123.02|127.95| 705.41472463|2013-09-19|\n",
      "| 10.85| 10.85| 10.64| 10.85|        112.0|2012-11-11|\n",
      "| 20.66| 20.66|  19.5| 20.66| 992.03480753|2013-02-02|\n",
      "|  5.78|  5.78|   5.5|  5.78|         34.0|2012-02-12|\n",
      "| 10.19| 10.19|  9.78| 10.19| 212.22207719|2012-08-23|\n",
      "| 12.39| 12.39| 12.01| 12.39| 176.51252367|2012-09-21|\n",
      "|  4.91|  4.91|  4.76|  4.91|  42.42713318|2012-03-30|\n",
      "|  7.59|  7.59|  7.44|  7.59| 224.21827128|2012-07-14|\n",
      "|  20.7|  20.7| 19.91|  20.7| 1019.3907767|2013-02-04|\n",
      "|128.49| 128.5| 123.1| 128.5|        702.0|2013-09-12|\n",
      "|  5.15|  5.15|  4.97|  5.15| 129.00147697|2012-05-02|\n",
      "| 11.04| 11.04| 10.38| 11.04| 357.12198529|2012-09-11|\n",
      "|  10.7|  10.7| 10.41|  10.7|        105.0|2012-11-03|\n",
      "+------+------+------+------+-------------+----------+\n",
      "only showing top 20 rows\n",
      "\n"
     ]
    }
   ],
   "source": [
    "bitcoinData2.show()"
   ]
  },
  {
   "cell_type": "code",
   "execution_count": 25,
   "metadata": {},
   "outputs": [],
   "source": [
    "from pyspark.sql.functions import date_format, col \n",
    "\n",
    "preppedData = bitcoinData2.na.fill(0).withColumn('day_of_week', date_format(col('data'), 'EEEE')).coalesce(5)"
   ]
  },
  {
   "cell_type": "code",
   "execution_count": 26,
   "metadata": {},
   "outputs": [
    {
     "name": "stdout",
     "output_type": "stream",
     "text": [
      "+------+------+------+------+-------------+----------+-----------+\n",
      "|  Open|  High|   Low| Close|       Volume|      data|day_of_week|\n",
      "+------+------+------+------+-------------+----------+-----------+\n",
      "|  4.99|  4.99|  4.95|  4.99|         59.0|2012-04-17|    Tuesday|\n",
      "|  12.6|  12.6| 12.06|  12.6|        221.3|2012-10-06|   Saturday|\n",
      "|  17.6|  17.6| 16.45|  17.6| 277.24326457|2013-01-22|    Tuesday|\n",
      "|  86.0|  86.0| 74.06|  86.0| 324.97025499|2013-03-26|    Tuesday|\n",
      "|118.56|118.56|116.55|118.56| 241.04896851|2013-05-21|    Tuesday|\n",
      "| 124.0|124.13| 115.0| 124.0|1080.14110169|2013-09-09|     Monday|\n",
      "|   8.8|   8.8|   7.7|   8.8|      369.759|2012-07-17|    Tuesday|\n",
      "|127.69|127.95|123.02|127.95| 705.41472463|2013-09-19|   Thursday|\n",
      "| 10.85| 10.85| 10.64| 10.85|        112.0|2012-11-11|     Sunday|\n",
      "| 20.66| 20.66|  19.5| 20.66| 992.03480753|2013-02-02|   Saturday|\n",
      "|  5.78|  5.78|   5.5|  5.78|         34.0|2012-02-12|     Sunday|\n",
      "| 10.19| 10.19|  9.78| 10.19| 212.22207719|2012-08-23|   Thursday|\n",
      "| 12.39| 12.39| 12.01| 12.39| 176.51252367|2012-09-21|     Friday|\n",
      "|  4.91|  4.91|  4.76|  4.91|  42.42713318|2012-03-30|     Friday|\n",
      "|  7.59|  7.59|  7.44|  7.59| 224.21827128|2012-07-14|   Saturday|\n",
      "|  20.7|  20.7| 19.91|  20.7| 1019.3907767|2013-02-04|     Monday|\n",
      "|128.49| 128.5| 123.1| 128.5|        702.0|2013-09-12|   Thursday|\n",
      "|  5.15|  5.15|  4.97|  5.15| 129.00147697|2012-05-02|  Wednesday|\n",
      "| 11.04| 11.04| 10.38| 11.04| 357.12198529|2012-09-11|    Tuesday|\n",
      "|  10.7|  10.7| 10.41|  10.7|        105.0|2012-11-03|   Saturday|\n",
      "+------+------+------+------+-------------+----------+-----------+\n",
      "only showing top 20 rows\n",
      "\n"
     ]
    }
   ],
   "source": [
    "preppedData.show()"
   ]
  },
  {
   "cell_type": "code",
   "execution_count": 28,
   "metadata": {},
   "outputs": [
    {
     "name": "stdout",
     "output_type": "stream",
     "text": [
      "+----------+----------+\n",
      "|   MaxDate|   MinData|\n",
      "+----------+----------+\n",
      "|2025-03-08|2012-01-01|\n",
      "+----------+----------+\n",
      "\n"
     ]
    }
   ],
   "source": [
    "from pyspark.sql.functions import max as sparkMax, min as sparkMin \n",
    "result = preppedData.agg(sparkMax('data').alias('MaxDate'), sparkMin('data').alias('MinData'))\n",
    "result.show()"
   ]
  },
  {
   "cell_type": "code",
   "execution_count": null,
   "metadata": {},
   "outputs": [],
   "source": []
  }
 ],
 "metadata": {
  "kernelspec": {
   "display_name": "Python 3",
   "language": "python",
   "name": "python3"
  },
  "language_info": {
   "codemirror_mode": {
    "name": "ipython",
    "version": 3
   },
   "file_extension": ".py",
   "mimetype": "text/x-python",
   "name": "python",
   "nbconvert_exporter": "python",
   "pygments_lexer": "ipython3",
   "version": "3.12.2"
  }
 },
 "nbformat": 4,
 "nbformat_minor": 2
}
